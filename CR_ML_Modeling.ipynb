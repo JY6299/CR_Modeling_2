{
 "cells": [
  {
   "cell_type": "code",
   "execution_count": 5,
   "id": "e8d67eb9-ea88-4949-8025-16f3e13e9a3c",
   "metadata": {},
   "outputs": [
    {
     "data": {
      "text/plain": [
       "((50000, 8), (50000, 15), (50000, 12))"
      ]
     },
     "execution_count": 5,
     "metadata": {},
     "output_type": "execute_result"
    }
   ],
   "source": [
    "import pandas as pd\n",
    "\n",
    "bureau = \"https://raw.githubusercontent.com/JY6299/CR_Modeling_2/refs/heads/main/bureau_data.csv\"\n",
    "loan = \"https://raw.githubusercontent.com/JY6299/CR_Modeling_2/refs/heads/main/loans.csv\"\n",
    "cust = \"https://raw.githubusercontent.com/JY6299/CR_Modeling_2/refs/heads/main/customers.csv\"\n",
    "\n",
    "bureau_data = pd.read_csv(bureau)\n",
    "loan_data = pd.read_csv(loan)\n",
    "cust_data = pd.read_csv(cust)\n",
    "\n",
    "bureau_data.shape, loan_data.shape, cust_data.shape"
   ]
  },
  {
   "cell_type": "markdown",
   "id": "19f63100-0d68-491f-ab9d-909aa8ad8a93",
   "metadata": {},
   "source": [
    "Successfully Implemented Data.\n",
    "In this Project, aim to build several ML models to compare performance, and select one as final model for prediction.\n",
    "Built a roburst credit risk classification model for PD\n",
    "PipeLine: 1.Data Preprocessing\n",
    "          2.EDA and feature selection\n",
    "          3.SMOTE to resample response variable(PD)\n",
    "          4.Model Selection\n",
    "          5.Model Hyperparameter Tuning with Optuna\n",
    "          6.Model Performance Monitoring"
   ]
  },
  {
   "cell_type": "code",
   "execution_count": null,
   "id": "49df30db-bc10-4a67-aa54-14111c7ff219",
   "metadata": {},
   "outputs": [],
   "source": []
  }
 ],
 "metadata": {
  "kernelspec": {
   "display_name": "Python [conda env:base] *",
   "language": "python",
   "name": "conda-base-py"
  },
  "language_info": {
   "codemirror_mode": {
    "name": "ipython",
    "version": 3
   },
   "file_extension": ".py",
   "mimetype": "text/x-python",
   "name": "python",
   "nbconvert_exporter": "python",
   "pygments_lexer": "ipython3",
   "version": "3.12.7"
  }
 },
 "nbformat": 4,
 "nbformat_minor": 5
}
